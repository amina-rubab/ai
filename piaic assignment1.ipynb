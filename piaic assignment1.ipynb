{
 "cells": [
  {
   "cell_type": "code",
   "execution_count": 7,
   "metadata": {
    "scrolled": true
   },
   "outputs": [
    {
     "data": {
      "text/plain": [
       "-19.0"
      ]
     },
     "execution_count": 7,
     "metadata": {},
     "output_type": "execute_result"
    }
   ],
   "source": [
    "#PEMDA\n",
    "(9-3*4-3)*((8/4)+3*7-20)+3-(3*2)-4/4+4-3+2*1+0\n",
    "#(9-12-3)(8/2+21-20)+3-6-1+4-3+2\n",
    "#(-6)(2+21-20)+3-6-1+4-3+2\n",
    "#(-6)3+3-6-1+4-3+2\n",
    "#-18+3-6-1+4-3+2\n",
    "#-19"
   ]
  },
  {
   "cell_type": "code",
   "execution_count": 10,
   "metadata": {},
   "outputs": [
    {
     "data": {
      "text/plain": [
       "'Pakistan'"
      ]
     },
     "execution_count": 10,
     "metadata": {},
     "output_type": "execute_result"
    }
   ],
   "source": [
    "a = \"pakistan\"\n",
    "a.capitalize()"
   ]
  },
  {
   "cell_type": "code",
   "execution_count": 12,
   "metadata": {},
   "outputs": [
    {
     "data": {
      "text/plain": [
       "'pakistan'"
      ]
     },
     "execution_count": 12,
     "metadata": {},
     "output_type": "execute_result"
    }
   ],
   "source": [
    "a.casefold()"
   ]
  },
  {
   "cell_type": "code",
   "execution_count": 11,
   "metadata": {},
   "outputs": [
    {
     "ename": "TypeError",
     "evalue": "center() takes at least 1 argument (0 given)",
     "output_type": "error",
     "traceback": [
      "\u001b[1;31m---------------------------------------------------------------------------\u001b[0m",
      "\u001b[1;31mTypeError\u001b[0m                                 Traceback (most recent call last)",
      "\u001b[1;32m<ipython-input-11-a80dcd58e8ca>\u001b[0m in \u001b[0;36m<module>\u001b[1;34m\u001b[0m\n\u001b[1;32m----> 1\u001b[1;33m \u001b[0mstr\u001b[0m\u001b[1;33m.\u001b[0m\u001b[0mcenter\u001b[0m\u001b[1;33m(\u001b[0m\u001b[0ma\u001b[0m\u001b[1;33m)\u001b[0m\u001b[1;33m\u001b[0m\u001b[1;33m\u001b[0m\u001b[0m\n\u001b[0m",
      "\u001b[1;31mTypeError\u001b[0m: center() takes at least 1 argument (0 given)"
     ]
    }
   ],
   "source": [
    "str.center(a)"
   ]
  },
  {
   "cell_type": "code",
   "execution_count": 16,
   "metadata": {},
   "outputs": [
    {
     "name": "stdout",
     "output_type": "stream",
     "text": [
      "str.center(40, 'a') : aaaathis is string example....wow!!!aaaa\n"
     ]
    }
   ],
   "source": [
    "str = \"this is string example....wow!!!\"\n",
    "print(\"str.center(40, 'a') :\" , str.center(40, 'a'))"
   ]
  },
  {
   "cell_type": "code",
   "execution_count": 15,
   "metadata": {},
   "outputs": [
    {
     "name": "stdout",
     "output_type": "stream",
     "text": [
      "2\n"
     ]
    }
   ],
   "source": [
    "str = \"this is string example....wow!!!\"\n",
    "x = str.count(\"example\")\n",
    "print(x)"
   ]
  },
  {
   "cell_type": "code",
   "execution_count": 17,
   "metadata": {},
   "outputs": [
    {
     "name": "stdout",
     "output_type": "stream",
     "text": [
      "The string is: pythön!\n",
      "The encoded version is: b'pyth\\xc3\\xb6n!'\n"
     ]
    }
   ],
   "source": [
    "# unicode string\n",
    "string = 'pythön!'\n",
    "# print string\n",
    "print('The string is:', string)\n",
    "# default encoding to utf-8\n",
    "string_utf = string.encode()\n",
    "# print result\n",
    "print('The encoded version is:', string_utf)"
   ]
  },
  {
   "cell_type": "code",
   "execution_count": 6,
   "metadata": {},
   "outputs": [
    {
     "name": "stdout",
     "output_type": "stream",
     "text": [
      "The string is: pythön!\n",
      "The encoded version (with ignore) is: b'pythn!'\n",
      "The encoded version (with replace) is: b'pyth?n!'\n"
     ]
    }
   ],
   "source": [
    "# unicode string\n",
    "string = 'pythön!'\n",
    "# print string\n",
    "print('The string is:', string)\n",
    "# ignore error\n",
    "print('The encoded version (with ignore) is:', string.encode(\"ascii\", \"ignore\"))\n",
    "# replace error\n",
    "print('The encoded version (with replace) is:', string.encode(\"ascii\", \"replace\"))"
   ]
  },
  {
   "cell_type": "code",
   "execution_count": 18,
   "metadata": {},
   "outputs": [
    {
     "name": "stdout",
     "output_type": "stream",
     "text": [
      "False\n",
      "True\n",
      "True\n",
      "True\n"
     ]
    }
   ],
   "source": [
    "# Python code shows the working of \n",
    "# .endswith() function \n",
    "  \n",
    "str2 = \"geeks for geeks.\"\n",
    "  \n",
    "# returns False \n",
    "result = str2.endswith('for geeks') \n",
    "print (result) \n",
    "  \n",
    "# returns True \n",
    "result = str2.endswith('geeks.') \n",
    "print (result) \n",
    "  \n",
    "# returns True \n",
    "result = str2.endswith('for geeks.') \n",
    "print (result) \n",
    "  \n",
    "# returns True \n",
    "result = str2.endswith('geeks for geeks.') \n",
    "print (result) "
   ]
  },
  {
   "cell_type": "code",
   "execution_count": 19,
   "metadata": {},
   "outputs": [
    {
     "name": "stdout",
     "output_type": "stream",
     "text": [
      "Modified string using default spacing: i       love    Pakistan\n",
      "\r\n",
      "Modified string using less spacing: i love  Pakistan\n",
      "\r\n",
      "Modified string using more spacing: i           love        Pakistan\n",
      "\r\n"
     ]
    }
   ],
   "source": [
    "# Python3 code to demonstrate \n",
    "# working of expandtabs() \n",
    "  \n",
    "# initializing string  \n",
    "str3 = \"i\\tlove\\tPakistan\"\n",
    "  \n",
    "# using expandtabs to insert spacing \n",
    "print(\"Modified string using default spacing: \", end =\"\") \n",
    "print(str3.expandtabs()) \n",
    "  \n",
    "print(\"\\r\") \n",
    "  \n",
    "# using expandtabs to insert spacing \n",
    "print(\"Modified string using less spacing: \", end =\"\") \n",
    "print(str3.expandtabs(2)) \n",
    "  \n",
    "print(\"\\r\") \n",
    "  \n",
    "# using expandtabs to insert spacing \n",
    "print(\"Modified string using more spacing: \", end =\"\") \n",
    "print(str3.expandtabs(12)) \n",
    "  \n",
    "print(\"\\r\") "
   ]
  },
  {
   "cell_type": "code",
   "execution_count": 6,
   "metadata": {},
   "outputs": [
    {
     "name": "stdout",
     "output_type": "stream",
     "text": [
      "Substring 'Practice' found at index: 0\n",
      "Substring 'during ' found at index: 9\n",
      "Doesn't contains given substring\n"
     ]
    }
   ],
   "source": [
    "str4 = 'Practice during travel'\n",
    "  \n",
    "# returns first occurrence of Substring \n",
    "result = str4.find('Practice') \n",
    "print (\"Substring 'Practice' found at index:\", result ) \n",
    "  \n",
    "result = str4.find('during') \n",
    "print (\"Substring 'during ' found at index:\", result ) \n",
    "  \n",
    "# How to use find() \n",
    "if (str4.find('python') != -1): \n",
    "    print (\"Contains given substring \") \n",
    "else: \n",
    "    print (\"Doesn't contains given substring\")"
   ]
  },
  {
   "cell_type": "code",
   "execution_count": 8,
   "metadata": {},
   "outputs": [
    {
     "name": "stdout",
     "output_type": "stream",
     "text": [
      "practicing format, A computer science portal for PIAIC.\n",
      "This article is written about Python\n",
      "Hello, I am 18 years old !\n"
     ]
    }
   ],
   "source": [
    "# Python3 program to demonstarte \n",
    "# the str.format() method \n",
    "  \n",
    "# using format option in a simple string \n",
    "print (\"{}, A computer science portal for PIAIC.\"\n",
    "                        .format(\"practicing format\")) \n",
    "  \n",
    "# using format option for a \n",
    "# value stored in a variable \n",
    "str5 = \"This article is written about {}\"\n",
    "print (str5.format(\"Python\")) \n",
    "  \n",
    "# formatting a string using a numeric constant \n",
    "print (\"Hello, I am {} years old !\".format(18)) "
   ]
  },
  {
   "cell_type": "code",
   "execution_count": 9,
   "metadata": {},
   "outputs": [
    {
     "name": "stdout",
     "output_type": "stream",
     "text": [
      "George has 10 new messages\n"
     ]
    }
   ],
   "source": [
    "# Python code showing practical  \n",
    "# use of format_map() function \n",
    "def chk_msg(n): \n",
    "          \n",
    "    # input stored in variable a. \n",
    "    a = {'name':\"George\", 'mesg':n} \n",
    "      \n",
    "    # use of format_map() function  \n",
    "    print('{name} has {mesg} new messages'.format_map(a)) \n",
    "      \n",
    "  \n",
    "chk_msg(10) "
   ]
  },
  {
   "cell_type": "code",
   "execution_count": 11,
   "metadata": {},
   "outputs": [
    {
     "name": "stdout",
     "output_type": "stream",
     "text": [
      "Letters are: {0, 1, 4, 6}\n",
      "Letters are: {0, 1, 4, 6}\n"
     ]
    }
   ],
   "source": [
    "# set of letters \n",
    "set = {6, 0, 4} \n",
    "  \n",
    "# adding 1 \n",
    "set.add(1) \n",
    "print('Letters are:', set) \n",
    "  \n",
    "# adding 0  \n",
    "set.add(0) \n",
    "print('Letters are:', set)"
   ]
  },
  {
   "cell_type": "code",
   "execution_count": 12,
   "metadata": {},
   "outputs": [
    {
     "name": "stdout",
     "output_type": "stream",
     "text": [
      "John\n",
      "36\n"
     ]
    }
   ],
   "source": [
    "class Person:\n",
    "  def __init__(self, name, age): #\"__init__\" is a reseved method in python classes. It is known as a constructor in object oriented concepts. This method called when an object is created from the class and it allow the class to initialize the attributes of a class.\n",
    "    self.name = name #self represents the instance of the class. By using the “self” keyword we can access the attributes and methods of the class in python\n",
    "    self.age = age\n",
    "\n",
    "p1 = Person(\"John\", 36)\n",
    "\n",
    "print(p1.name)\n",
    "print(p1.age)"
   ]
  },
  {
   "cell_type": "code",
   "execution_count": 13,
   "metadata": {},
   "outputs": [
    {
     "name": "stdout",
     "output_type": "stream",
     "text": [
      "3\n",
      "0\n"
     ]
    }
   ],
   "source": [
    "# Python3 program for demonstration   \n",
    "# of list index() method \n",
    "  \n",
    "list1 = [1, 2, 3, 4, 1, 1, 1, 4, 5] \n",
    "  \n",
    "# Will print the index of '4' in list1 \n",
    "print(list1.index(4)) \n",
    "  \n",
    "list2 = ['cat', 'bat', 'mat', 'cat', 'pet'] \n",
    "  \n",
    "# Will print the index of 'cat' in list2  \n",
    "print(list2.index('cat'))"
   ]
  },
  {
   "cell_type": "code",
   "execution_count": 14,
   "metadata": {},
   "outputs": [
    {
     "name": "stdout",
     "output_type": "stream",
     "text": [
      "True\n",
      "False\n"
     ]
    }
   ],
   "source": [
    "# Python program to demonstrate the use of \n",
    "# isalnum() method   \n",
    "  \n",
    "# here a,b and c are characters and 1,2 and 3 \n",
    "# are numbers \n",
    "string = \"abc123\"\n",
    "print(string.isalnum()) \n",
    "  \n",
    "# here a,b and c are characters and 1,2 and 3  \n",
    "# are numbers but space is not a alphanumeric  \n",
    "# character \n",
    "string = \"abc 123\" \n",
    "print(string.isalnum()) "
   ]
  },
  {
   "cell_type": "code",
   "execution_count": 16,
   "metadata": {},
   "outputs": [
    {
     "name": "stdout",
     "output_type": "stream",
     "text": [
      "True\n",
      "False\n",
      "False\n"
     ]
    }
   ],
   "source": [
    "# checking for alphabets \n",
    "string = 'rozmeen'\n",
    "print(string.isalpha()) \n",
    "   \n",
    "  \n",
    "string = 'rozmeen0212'\n",
    "print(string.isalpha()) \n",
    "   \n",
    "# checking if space is an alphabet \n",
    "string = 'roz merry'\n",
    "print( string.isalpha()) "
   ]
  },
  {
   "cell_type": "code",
   "execution_count": 19,
   "metadata": {},
   "outputs": [
    {
     "name": "stdout",
     "output_type": "stream",
     "text": [
      "'G \\xeb \\xea k s f ? r G ? e k s'\n"
     ]
    }
   ],
   "source": [
    "# Python program to illustrate ascii() \n",
    "str = \"G ë ê k s f ? r G ? e k s\"\n",
    "print (ascii(str)) "
   ]
  },
  {
   "cell_type": "code",
   "execution_count": 20,
   "metadata": {},
   "outputs": [
    {
     "name": "stdout",
     "output_type": "stream",
     "text": [
      "True\n",
      "False\n",
      "False\n"
     ]
    }
   ],
   "source": [
    "# Python3 program to demonstrate the use \n",
    "# of isdecimal()  \n",
    "  \n",
    "s = \"12345\"\n",
    "print(s.isdecimal()) \n",
    "  \n",
    "# contains alphabets \n",
    "s = \"12geeks34\"\n",
    "print(s.isdecimal()) \n",
    "  \n",
    "# contains numbers and spaces \n",
    "s = \"12 34\"\n",
    "print(s.isdecimal())"
   ]
  },
  {
   "cell_type": "code",
   "execution_count": 21,
   "metadata": {},
   "outputs": [
    {
     "name": "stdout",
     "output_type": "stream",
     "text": [
      "True\n",
      "False\n"
     ]
    }
   ],
   "source": [
    "# Python code for implementation of isdigit() \n",
    "   \n",
    "# checking for digit \n",
    "string = '15460'\n",
    "print(string.isdigit()) \n",
    "   \n",
    "  \n",
    "string = '154ayush60'\n",
    "print(string.isdigit()) "
   ]
  },
  {
   "cell_type": "code",
   "execution_count": 22,
   "metadata": {},
   "outputs": [
    {
     "name": "stdout",
     "output_type": "stream",
     "text": [
      "False\n",
      "True\n",
      "False\n",
      "True\n",
      "False\n"
     ]
    }
   ],
   "source": [
    "# Python code to illustrate the working of isidentifier() \n",
    "  \n",
    "# String with spaces \n",
    "string = \"Geeks for Geeks\"\n",
    "print(string.isidentifier()) \n",
    "  \n",
    "# A Perfect identifier \n",
    "string = \"GeeksforGeeks\"\n",
    "print(string.isidentifier()) \n",
    "  \n",
    "# Empty string \n",
    "string = \"\" \n",
    "print(string.isidentifier()) \n",
    "  \n",
    "# Alphanumerical string \n",
    "string = \"Geeks0for0Geeks\"\n",
    "print(string.isidentifier()) \n",
    "  \n",
    "# Beginning with an integer \n",
    "string = \"54Geeks0for0Geeks\"\n",
    "print(string.isidentifier()) \n"
   ]
  },
  {
   "cell_type": "code",
   "execution_count": 23,
   "metadata": {},
   "outputs": [
    {
     "name": "stdout",
     "output_type": "stream",
     "text": [
      "True\n",
      "False\n"
     ]
    }
   ],
   "source": [
    "# Python code for implementation of isupper() \n",
    "  \n",
    "# checking for uppercase characters \n",
    "string = 'GEEKSFORGEEKS'\n",
    "print(string.isupper()) \n",
    "  \n",
    "string = 'GeeksforGeeks'\n",
    "print(string.isupper()) "
   ]
  },
  {
   "cell_type": "code",
   "execution_count": 25,
   "metadata": {},
   "outputs": [
    {
     "name": "stdout",
     "output_type": "stream",
     "text": [
      "True\n",
      "True\n",
      "My name is \n",
      " Ayush\n",
      "True\n"
     ]
    }
   ],
   "source": [
    "# Python code for implementation of isprintable() \n",
    "  \n",
    "# checking for printable characters \n",
    "string = 'My name is Ayush'\n",
    "print(string.isprintable()) \n",
    "  \n",
    "# checking if \\n is a printable character \n",
    "stringtest = 'My name is \\n Ayush'\n",
    "print(string.isprintable()) \n",
    "print(stringtest)\n",
    "  \n",
    "# checking if space is a printable character \n",
    "string = '' \n",
    "print( string.isprintable()) "
   ]
  },
  {
   "cell_type": "code",
   "execution_count": 29,
   "metadata": {},
   "outputs": [
    {
     "name": "stdout",
     "output_type": "stream",
     "text": [
      "False\n",
      "True\n"
     ]
    },
    {
     "ename": "NameError",
     "evalue": "name 'srings' is not defined",
     "output_type": "error",
     "traceback": [
      "\u001b[1;31m---------------------------------------------------------------------------\u001b[0m",
      "\u001b[1;31mNameError\u001b[0m                                 Traceback (most recent call last)",
      "\u001b[1;32m<ipython-input-29-fddae29a9037>\u001b[0m in \u001b[0;36m<module>\u001b[1;34m\u001b[0m\n\u001b[0;32m     12\u001b[0m \u001b[1;33m\u001b[0m\u001b[0m\n\u001b[0;32m     13\u001b[0m \u001b[0mstrings\u001b[0m \u001b[1;33m=\u001b[0m \u001b[1;34m'Geeks\\nfor\\ngeeks'\u001b[0m\u001b[1;33m\u001b[0m\u001b[1;33m\u001b[0m\u001b[0m\n\u001b[1;32m---> 14\u001b[1;33m \u001b[0mprint\u001b[0m\u001b[1;33m(\u001b[0m\u001b[0msrings\u001b[0m\u001b[1;33m)\u001b[0m\u001b[1;33m\u001b[0m\u001b[1;33m\u001b[0m\u001b[0m\n\u001b[0m\u001b[0;32m     15\u001b[0m \u001b[0mprint\u001b[0m\u001b[1;33m(\u001b[0m \u001b[0mstrings\u001b[0m\u001b[1;33m.\u001b[0m\u001b[0misspace\u001b[0m\u001b[1;33m(\u001b[0m\u001b[1;33m)\u001b[0m\u001b[1;33m)\u001b[0m\u001b[1;33m\u001b[0m\u001b[1;33m\u001b[0m\u001b[0m\n",
      "\u001b[1;31mNameError\u001b[0m: name 'srings' is not defined"
     ]
    }
   ],
   "source": [
    "# Python code for implementation of isspace() \n",
    "   \n",
    "# checking for whitespace characters \n",
    "string = 'Geeksforgeeks'\n",
    "  \n",
    "print(string.isspace()) \n",
    "   \n",
    "# checking if \\n is a whitespace character \n",
    "string = '\\n \\n \\n'\n",
    "  \n",
    "print(string.isspace()) \n",
    "  \n",
    "strings = 'Geeks\\nfor\\ngeeks'\n",
    "print(srings)\n",
    "print( strings.isspace())\n"
   ]
  },
  {
   "cell_type": "code",
   "execution_count": 31,
   "metadata": {},
   "outputs": [
    {
     "name": "stdout",
     "output_type": "stream",
     "text": [
      "True\n",
      "False\n",
      "False\n",
      "True\n",
      "False\n"
     ]
    }
   ],
   "source": [
    "# First character in each word is  \n",
    "# uppercase and remaining lowercases \n",
    "s = 'Geeks For Geeks'\n",
    "print(s.istitle()) \n",
    "  \n",
    "# First character in first \n",
    "# word is lowercase \n",
    "s = 'geeks For Geeks'\n",
    "print(s.istitle()) \n",
    "  \n",
    "# Third word has uppercase \n",
    "# characters at middle \n",
    "s = 'Geeks For GEEKs'\n",
    "print(s.istitle()) \n",
    "  \n",
    "s = '6041 Is My Number'\n",
    "print(s.istitle()) \n",
    "  \n",
    "# word has uppercase \n",
    "# characters at middle \n",
    "s = 'GEEKS'\n",
    "print(s.istitle()) "
   ]
  },
  {
   "cell_type": "code",
   "execution_count": 32,
   "metadata": {},
   "outputs": [
    {
     "name": "stdout",
     "output_type": "stream",
     "text": [
      "1-2-3-4\n"
     ]
    }
   ],
   "source": [
    "# Python program to demonstrate the \n",
    "# use of join function to join list \n",
    "# elements with a character. \n",
    "  \n",
    "list1 = ['1','2','3','4']  \n",
    "  \n",
    "s = \"-\"\n",
    "  \n",
    "# joins elements of list1 by '-' \n",
    "# and stores in sting s \n",
    "s = s.join(list1) \n",
    "  \n",
    "# join use to join a list of \n",
    "# strings to a separator s \n",
    "print(s)"
   ]
  },
  {
   "cell_type": "code",
   "execution_count": 34,
   "metadata": {},
   "outputs": [
    {
     "name": "stdout",
     "output_type": "stream",
     "text": [
      "The original string is : \n",
      " I love geeksforgeeks \n",
      "\n",
      "The left aligned string is : \n",
      "I love geeksforgeeks--------------------\n"
     ]
    }
   ],
   "source": [
    "# Python3 code to demonstrate  \n",
    "# the working of  ljust() \n",
    "  \n",
    "lstr = \"I love geeksforgeeks\"\n",
    "  \n",
    "# Printing the original string \n",
    "print (\"The original string is : \\n\", lstr, \"\\n\") \n",
    "  \n",
    "# Printing the left aligned  \n",
    "# string with \"-\" padding  \n",
    "print (\"The left aligned string is : \") \n",
    "print (lstr.ljust(40, '-')) "
   ]
  },
  {
   "cell_type": "code",
   "execution_count": 35,
   "metadata": {},
   "outputs": [
    {
     "name": "stdout",
     "output_type": "stream",
     "text": [
      "geeksforgeeks\n"
     ]
    }
   ],
   "source": [
    "# Python3 program to demonstrate the use of   \n",
    "# lstrip() method using default parameter \n",
    "    \n",
    "# string which is to be stripped  \n",
    "string = \"   geeksforgeeks\"\n",
    "    \n",
    "# Removes spaces from left.  \n",
    "print(string.lstrip()) "
   ]
  },
  {
   "cell_type": "code",
   "execution_count": 36,
   "metadata": {},
   "outputs": [
    {
     "name": "stdout",
     "output_type": "stream",
     "text": [
      "The string before translating is : weeksyourweeks\n",
      "The string after translating is : geeksforgeeks\n"
     ]
    }
   ],
   "source": [
    "# Python3 code to demostrate  \n",
    "# translations using  \n",
    "# maketrans() and translate() \n",
    "  \n",
    "# specify to translate chars \n",
    "str1 = \"wy\"\n",
    "  \n",
    "# specify to replace with \n",
    "str2 = \"gf\"\n",
    "  \n",
    "# delete chars \n",
    "str3 = \"u\"\n",
    "  \n",
    "# target string  \n",
    "trg = \"weeksyourweeks\"\n",
    "  \n",
    "# using maketrans() to  \n",
    "# construct translate \n",
    "# table \n",
    "table = trg.maketrans(str1, str2, str3) \n",
    "  \n",
    "# Printing original string  \n",
    "print (\"The string before translating is : \", end =\"\") \n",
    "print (trg) \n",
    "  \n",
    "# using translate() to make translations. \n",
    "print (\"The string after translating is : \", end =\"\") \n",
    "print (trg.translate(table)) "
   ]
  },
  {
   "cell_type": "code",
   "execution_count": 37,
   "metadata": {},
   "outputs": [
    {
     "name": "stdout",
     "output_type": "stream",
     "text": [
      "('pawan ', 'is ', 'a good')\n",
      "('pawan is a good', '', '')\n",
      "('pawan ', 'is', \" a good, isn't it\")\n"
     ]
    }
   ],
   "source": [
    "string = \"pawan is a good\"\n",
    "  \n",
    "# 'is' separator is found \n",
    "print(string.partition('is ')) \n",
    "  \n",
    "# 'not' separator is not found \n",
    "print(string.partition('bad ')) \n",
    "  \n",
    "string = \"pawan is a good, isn't it\"\n",
    "  \n",
    "# splits at first occurrence of 'is' \n",
    "print(string.partition('is'))"
   ]
  },
  {
   "cell_type": "code",
   "execution_count": 38,
   "metadata": {},
   "outputs": [
    {
     "name": "stdout",
     "output_type": "stream",
     "text": [
      "Geeks for Geeks Geeks Geeks Geeks\n",
      "GeeksforGeeks for GeeksforGeeks GeeksforGeeks geeks geeks\n"
     ]
    }
   ],
   "source": [
    "# Python3 program to demonstrate the  \n",
    "# use of replace() method   \n",
    "  \n",
    "string = \"geeks for geeks geeks geeks geeks\" \n",
    "   \n",
    "# Prints the string by replacing geeks by Geeks  \n",
    "print(string.replace(\"geeks\", \"Geeks\"))  \n",
    "  \n",
    "# Prints the string by replacing only 3 occurrence of Geeks   \n",
    "print(string.replace(\"geeks\", \"GeeksforGeeks\", 3))"
   ]
  },
  {
   "cell_type": "code",
   "execution_count": 39,
   "metadata": {},
   "outputs": [
    {
     "name": "stdout",
     "output_type": "stream",
     "text": [
      "Substring 'geeks' found at index : 10\n",
      "Substring 'for' found at index : 6\n",
      "Substring 'ate' found at index : 13\n"
     ]
    }
   ],
   "source": [
    "# Python program to demonstrate working of rfind() \n",
    "# in whole string \n",
    "word = 'geeks for geeks'\n",
    "  \n",
    "# Returns highest index of the substring \n",
    "result = word.rfind('geeks') \n",
    "print (\"Substring 'geeks' found at index :\", result ) \n",
    "  \n",
    "result = word.rfind('for') \n",
    "print (\"Substring 'for' found at index :\", result ) \n",
    "  \n",
    "word = 'CatBatSatMatGate'\n",
    "  \n",
    "# Returns highest index of the substring \n",
    "result = word.rfind('ate') \n",
    "print(\"Substring 'ate' found at index :\", result) "
   ]
  },
  {
   "cell_type": "code",
   "execution_count": 1,
   "metadata": {},
   "outputs": [
    {
     "name": "stdout",
     "output_type": "stream",
     "text": [
      "   geeks\n"
     ]
    }
   ],
   "source": [
    "# Python program to demonstrate working of  \n",
    "# rjust() \n",
    "string = 'geeks'\n",
    "length = 8\n",
    "  \n",
    "# If no fill character is provided, space \n",
    "# is used as fill character \n",
    "print(string.rjust(length))"
   ]
  },
  {
   "cell_type": "code",
   "execution_count": 4,
   "metadata": {},
   "outputs": [
    {
     "name": "stdout",
     "output_type": "stream",
     "text": [
      "('edu@and@skills@is@for', '@', 'everyone')\n",
      "('Amina is not learning but Rozmeen ', 'is', ' learning')\n"
     ]
    }
   ],
   "source": [
    "# Python3 code explaining rpartition() \n",
    "  \n",
    "# String need to split \n",
    "string1 = \"edu@and@skills@is@for@everyone\"\n",
    "  \n",
    "string2 = \"Amina is not learning but Rozmeen is learning\"\n",
    "  \n",
    "# Here '@' is a separator \n",
    "print(string1.rpartition('@')) \n",
    "  \n",
    "# Here 'is' is seperator \n",
    "print(string2.rpartition('is')) "
   ]
  },
  {
   "cell_type": "code",
   "execution_count": 6,
   "metadata": {},
   "outputs": [
    {
     "name": "stdout",
     "output_type": "stream",
     "text": [
      "['geeks', 'for', 'geeks']\n",
      "['geeks, for, ', 'eeks']\n",
      "['geeks@for', 'geeks']\n"
     ]
    }
   ],
   "source": [
    "# Python code to split a string \n",
    "# using rsplit. \n",
    "  \n",
    "# Splits at space \n",
    "word = 'geeks for geeks'\n",
    "print(word.rsplit()) \n",
    "  \n",
    "# Splits at 'g'. Note that we have \n",
    "# provided maximum limit as 1. So \n",
    "# from right, one splitting happens \n",
    "# and we get \"eeks\" and \"geeks, for, \" \n",
    "word = 'geeks, for, geeks'\n",
    "print(word.rsplit('g', 1)) \n",
    "  \n",
    "# Splitting at '@' with maximum splitting \n",
    "# as 1 \n",
    "word = 'geeks@for@geeks'\n",
    "print(word.rsplit('@', 1)) "
   ]
  },
  {
   "cell_type": "code",
   "execution_count": 7,
   "metadata": {},
   "outputs": [
    {
     "name": "stdout",
     "output_type": "stream",
     "text": [
      "geek\n"
     ]
    }
   ],
   "source": [
    "\n",
    "# Python3 program to demonstrate the use of  \n",
    "# rstrip() method using optional parameters  \n",
    "  \n",
    "# string which is to be stripped \n",
    "string = \"geekssss\"\n",
    "  \n",
    "# Removes given set of characters from \n",
    "# right. \n",
    "print(string.rstrip('s')) "
   ]
  },
  {
   "cell_type": "code",
   "execution_count": 8,
   "metadata": {},
   "outputs": [
    {
     "name": "stdout",
     "output_type": "stream",
     "text": [
      "['welcome', 'to', 'the', 'jungle']\n"
     ]
    }
   ],
   "source": [
    "txt = \"welcome to the jungle\"\n",
    "\n",
    "x = txt.split()\n",
    "\n",
    "print(x)"
   ]
  },
  {
   "cell_type": "code",
   "execution_count": 9,
   "metadata": {},
   "outputs": [
    {
     "name": "stdout",
     "output_type": "stream",
     "text": [
      "['PIAIC AI class at Bahria University by Sir Muammad Qasim']\n",
      "['PIAIC AI class at Bahria University by Sir Muammad Qasim']\n",
      "['PIAIC AI class at Bahria University by Sir Muammad Qasim']\n"
     ]
    }
   ],
   "source": [
    "# Python code to illustrate splitlines() \n",
    "string = \"PIAIC AI class at Bahria University by Sir Muammad Qasim\"\n",
    "  \n",
    "# No parameters has been passed \n",
    "print (string.splitlines( )) \n",
    "  \n",
    "# A specified number is passed \n",
    "print (string.splitlines(0)) \n",
    "  \n",
    "# True has been passed  \n",
    "print (string.splitlines(True)) "
   ]
  },
  {
   "cell_type": "code",
   "execution_count": 10,
   "metadata": {},
   "outputs": [
    {
     "name": "stdout",
     "output_type": "stream",
     "text": [
      "True\n",
      "False\n",
      "True\n",
      "\n",
      "\n",
      "True\n",
      "False\n",
      "True\n"
     ]
    }
   ],
   "source": [
    "# Python code to implement startwith() \n",
    "# and endwith() function. \n",
    "  \n",
    "str = \"GeeksforGeeks\"\n",
    "  \n",
    "# startswith() \n",
    "print(str.startswith(\"Geeks\")) \n",
    "print(str.startswith(\"Geeks\", 4, 10)) \n",
    "print(str.startswith(\"Geeks\", 8, 14)) \n",
    "  \n",
    "print(\"\\n\") \n",
    "  \n",
    "# endswith \n",
    "print(str.endswith(\"Geeks\")) \n",
    "print(str.endswith(\"Geeks\", 2, 8)) \n",
    "print(str.endswith(\"for\", 5, 8)) "
   ]
  },
  {
   "cell_type": "code",
   "execution_count": 11,
   "metadata": {},
   "outputs": [
    {
     "name": "stdout",
     "output_type": "stream",
     "text": [
      " geeks for geeks \n",
      "geeks for geeks\n",
      "for\n"
     ]
    }
   ],
   "source": [
    "# Python3 program to demonstrate the use of \n",
    "# strip() method   \n",
    "  \n",
    "string = \" geeks for geeks \" \n",
    "  \n",
    "# prints the string without stripping \n",
    "print(string)  \n",
    "  \n",
    "# prints the string by removing leading and trailing whitespaces \n",
    "print(string.strip())    \n",
    "  \n",
    "# prints the string by removing geeks \n",
    "print(string.strip(' geeks')) "
   ]
  },
  {
   "cell_type": "code",
   "execution_count": 12,
   "metadata": {},
   "outputs": [
    {
     "name": "stdout",
     "output_type": "stream",
     "text": [
      "GeeKSforGEEKS\n",
      "STRIVER\n"
     ]
    }
   ],
   "source": [
    "# Python program to demonstrate the use of \n",
    "# swapcase() method   \n",
    "  \n",
    "string = \"gEEksFORgeeks\"\n",
    "  \n",
    "# prints after swappong all cases \n",
    "print(string.swapcase())    \n",
    "  \n",
    "string = \"striver\" \n",
    "print(string.swapcase())"
   ]
  },
  {
   "cell_type": "code",
   "execution_count": 14,
   "metadata": {},
   "outputs": [
    {
     "name": "stdout",
     "output_type": "stream",
     "text": [
      "First Output after Title() method is =  Geeks For Geeks\n",
      "Converted String is =  Geeks For Geeks\n",
      "Original String is =  geeKs foR geEks\n",
      "Second Output after Title() method is =  Asipu Pawan Kumar\n",
      "Third Output after Title() method is =  Stutya Kumari Shaw\n",
      "Fourth Output after Title() method is =  6041\n"
     ]
    }
   ],
   "source": [
    "# Python Title() Method Example \n",
    "   \n",
    "str1 = 'geeKs foR geEks'\n",
    "str2 = str1.title() \n",
    "print('First Output after Title() method is = ', str2) \n",
    "  \n",
    "# observe the original string \n",
    "print('Converted String is = ', str1.title()) \n",
    "print('Original String is = ', str1)\n",
    "   \n",
    "# Performing title() function directly \n",
    "str3 = 'ASIPU pawan kuMAr'.title() \n",
    "print('Second Output after Title() method is = ', str3) \n",
    "   \n",
    "str4 = 'stutya kUMari sHAW'.title() \n",
    "print('Third Output after Title() method is = ', str4)\n",
    "   \n",
    "str5 = '6041'.title() \n",
    "print('Fourth Output after Title() method is = ', str5)"
   ]
  },
  {
   "cell_type": "code",
   "execution_count": 15,
   "metadata": {},
   "outputs": [
    {
     "name": "stdout",
     "output_type": "stream",
     "text": [
      "The string before translating is : weeksyourweeks\n",
      "The string after translating is : geeksforgeeks\n"
     ]
    }
   ],
   "source": [
    "# Python3 code to demostrate  \n",
    "# translations without  \n",
    "# maketrans()  \n",
    "  \n",
    "# specifying the mapping  \n",
    "# using ASCII  \n",
    "table = { 119 : 103, 121 : 102, 117 : None }  \n",
    "  \n",
    "# target string  \n",
    "trg = \"weeksyourweeks\"\n",
    "  \n",
    "# Printing original string  \n",
    "print (\"The string before translating is : \", end =\"\")  \n",
    "print (trg)  \n",
    "  \n",
    "# using translate() to make translations.  \n",
    "print (\"The string after translating is : \", end =\"\")  \n",
    "print (trg.translate(table)) "
   ]
  },
  {
   "cell_type": "code",
   "execution_count": 16,
   "metadata": {},
   "outputs": [
    {
     "name": "stdout",
     "output_type": "stream",
     "text": [
      "0000000000geeks for geeks\n",
      "00000geeks for geeks\n",
      "geeks for geeks\n"
     ]
    }
   ],
   "source": [
    "text = \"geeks for geeks\"\n",
    "  \n",
    "print(text.zfill(25)) \n",
    "  \n",
    "print(text.zfill(20)) \n",
    "  \n",
    "# Given length is less than \n",
    "# the length od original string \n",
    "print(text.zfill(10))"
   ]
  },
  {
   "cell_type": "code",
   "execution_count": null,
   "metadata": {},
   "outputs": [],
   "source": []
  }
 ],
 "metadata": {
  "kernelspec": {
   "display_name": "Python 3",
   "language": "python",
   "name": "python3"
  },
  "language_info": {
   "codemirror_mode": {
    "name": "ipython",
    "version": 3
   },
   "file_extension": ".py",
   "mimetype": "text/x-python",
   "name": "python",
   "nbconvert_exporter": "python",
   "pygments_lexer": "ipython3",
   "version": "3.7.3"
  }
 },
 "nbformat": 4,
 "nbformat_minor": 2
}
